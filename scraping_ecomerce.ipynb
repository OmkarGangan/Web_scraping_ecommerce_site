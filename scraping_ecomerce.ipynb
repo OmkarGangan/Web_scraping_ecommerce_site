{
 "cells": [
  {
   "cell_type": "code",
   "execution_count": 1,
   "metadata": {},
   "outputs": [],
   "source": [
    "# import libraries\n",
    "import requests\n",
    "from bs4 import BeautifulSoup "
   ]
  },
  {
   "cell_type": "code",
   "execution_count": 9,
   "metadata": {},
   "outputs": [],
   "source": [
    "# site url\n",
    "url = 'https://www.boat-lifestyle.com/collections/true-wireless-earbuds'\n",
    "page = requests.get(url)"
   ]
  },
  {
   "cell_type": "code",
   "execution_count": 3,
   "metadata": {},
   "outputs": [],
   "source": [
    "# html parsing\n",
    "soup = BeautifulSoup(page.text,'html.parser')"
   ]
  },
  {
   "cell_type": "code",
   "execution_count": 34,
   "metadata": {},
   "outputs": [],
   "source": [
    "# create csv file in write mode and write data\n",
    "f = open('ecommerce.csv','w+')\n",
    "f.write(\"Product,Rating,Cost,\\n\")\n",
    "f.close()"
   ]
  },
  {
   "cell_type": "code",
   "execution_count": 35,
   "metadata": {},
   "outputs": [
    {
     "data": {
      "text/plain": [
       "'4.00 stars'"
      ]
     },
     "execution_count": 35,
     "metadata": {},
     "output_type": "execute_result"
    }
   ],
   "source": [
    "# function to handle 0.00 stars rating\n",
    "def stars(t):\n",
    "    if '0.00' in t:\n",
    "        return 'Unavailable'\n",
    "    else:\n",
    "        return t\n",
    "stars('4.00 stars')"
   ]
  },
  {
   "cell_type": "code",
   "execution_count": 36,
   "metadata": {},
   "outputs": [
    {
     "name": "stdout",
     "output_type": "stream",
     "text": [
      "BOAT Airdopes 511 V2 Unavailable Rs. 2499.00\n",
      "BOAT Airdopes 381 - In Ear Wireless Earbuds 4.54 stars Rs. 1999.00\n",
      "BOAT Airdopes 402 - Wireless Earbuds 4.70 stars Rs. 1799.00\n",
      "BOAT Airdopes 431 - Truly Wireless Earbuds 4.72 stars Rs. 1999.00\n",
      "BOAT Airdopes 441 - Wireless Earbuds 4.77 stars Rs. 2499.00\n",
      "BOAT Airdopes 311 V2 - Bluetooth Earbuds 4.50 stars Rs. 2499.00\n",
      "BOAT Airdopes 441 Pro - Bluetooth Wireless Earbuds 4.71 stars Rs. 2999.00\n",
      "BOAT Airdopes 201 - True Wireless Earbuds 4.57 stars Rs. 1999.00\n",
      "BOAT Airdopes 131 - Wireless Earbuds 4.60 stars Rs. 1299.00\n",
      "BOAT Airdopes 171 - Earbuds 4.74 stars Rs. 1799.00\n",
      "BOAT Airdopes 281 - True Wireless Earbuds 4.76 stars Rs. 2299.00\n",
      "TRebel Airdopes 402 Unavailable Rs. 1799.00\n",
      "TRebel Airdopes 131 Unavailable Rs. 1299.00\n",
      "BOAT Airdopes 481 V2 Unavailable Rs. 1999.00\n",
      "BOAT Airdopes 621 Unavailable Rs. 2999.00\n",
      "BOAT Airdopes 412 - Bluetooth Earbuds 5.00 stars Rs. 2999.00\n",
      "BOAT Airdopes 121 v2 - Wireless Earbuds 4.66 stars Rs. 1299.00\n",
      "BOAT Airdopes 631 - TWS Earbuds 4.57 stars Rs. 3999.00\n",
      "BOAT Airdopes 481 - Bluetooth Earbuds Unavailable Rs. 2999.00\n",
      "BOAT Airdopes 382 - Bluetooth Earbuds 5.00 stars Rs. 2499.00\n",
      "BOAT Airdopes 491 - Wireless Earbuds 4.33 stars Rs. 3999.00\n",
      "BOAT Airdopes 291 - Wireless Earbuds 5.00 stars Rs. 2499.00\n",
      "BOAT Airdopes 501 - Earbuds 4.64 stars Rs. 2999.00\n",
      "Airdopes 443 5.00 stars Rs. 2699.00\n",
      "BOAT Airdopes 461 - Bluetooth Earbuds 5.00 stars Rs. 2499.00\n",
      "BOAT Airdopes 711 - Best Bluetooth Earbuds with Mic Unavailable Rs. 4990.00\n",
      "BOAT Airdopes 203 - Noise Cancelling Earbuds 5.00 stars Rs. 2099.00\n",
      "BOAT Airdopes 383 - Wireless Earbuds Unavailable Rs. 2999.00\n",
      "BOAT Airdopes 421 - TWS Earbuds 5.00 stars Rs. 2499.00\n",
      "BOAT Airdopes 101 Unavailable Rs. 1999.00\n"
     ]
    }
   ],
   "source": [
    "# product title\n",
    "p = iter(soup.select('.title'))\n",
    "# reviews\n",
    "s = iter(soup.select('.jdgm-prev-badge__stars'))\n",
    "# cost\n",
    "c = iter(soup.select('.price'))\n",
    "try:\n",
    "    # open file in append mode\n",
    "    f = open('ecommerce.csv','a')\n",
    "    while True:\n",
    "        try:\n",
    "            # product name\n",
    "            product = (next(p).text)\n",
    "            # star rating is in this attribute\n",
    "            star = (next(s).get('aria-label'))\n",
    "            star = stars(star)\n",
    "            # cost\n",
    "            cost = (next(c).text.strip().replace(',',''))\n",
    "            print(product,star,cost)\n",
    "            # append to csv file\n",
    "            f.write(product+','+star+','+cost+','+'\\n')\n",
    "        except StopIteration:\n",
    "            break\n",
    "        except Exception as e:\n",
    "            print(e)\n",
    "except Exception as e:\n",
    "    print(e)\n",
    "finally:\n",
    "    f.close()"
   ]
  },
  {
   "cell_type": "code",
   "execution_count": null,
   "metadata": {},
   "outputs": [],
   "source": []
  },
  {
   "cell_type": "code",
   "execution_count": null,
   "metadata": {},
   "outputs": [],
   "source": []
  },
  {
   "cell_type": "code",
   "execution_count": null,
   "metadata": {},
   "outputs": [],
   "source": []
  },
  {
   "cell_type": "code",
   "execution_count": null,
   "metadata": {},
   "outputs": [],
   "source": []
  },
  {
   "cell_type": "code",
   "execution_count": null,
   "metadata": {},
   "outputs": [],
   "source": []
  },
  {
   "cell_type": "code",
   "execution_count": null,
   "metadata": {},
   "outputs": [],
   "source": []
  },
  {
   "cell_type": "code",
   "execution_count": null,
   "metadata": {},
   "outputs": [],
   "source": []
  },
  {
   "cell_type": "code",
   "execution_count": null,
   "metadata": {},
   "outputs": [],
   "source": []
  },
  {
   "cell_type": "code",
   "execution_count": null,
   "metadata": {},
   "outputs": [],
   "source": []
  },
  {
   "cell_type": "code",
   "execution_count": null,
   "metadata": {},
   "outputs": [],
   "source": []
  },
  {
   "cell_type": "code",
   "execution_count": null,
   "metadata": {},
   "outputs": [],
   "source": []
  }
 ],
 "metadata": {
  "kernelspec": {
   "display_name": "Python 3",
   "language": "python",
   "name": "python3"
  },
  "language_info": {
   "codemirror_mode": {
    "name": "ipython",
    "version": 3
   },
   "file_extension": ".py",
   "mimetype": "text/x-python",
   "name": "python",
   "nbconvert_exporter": "python",
   "pygments_lexer": "ipython3",
   "version": "3.8.5"
  }
 },
 "nbformat": 4,
 "nbformat_minor": 4
}
