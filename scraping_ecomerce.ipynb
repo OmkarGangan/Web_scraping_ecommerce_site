{
 "cells": [
  {
   "cell_type": "code",
   "execution_count": 1,
   "metadata": {},
   "outputs": [],
   "source": [
    "# import libraries\n",
    "import requests\n",
    "from bs4 import BeautifulSoup "
   ]
  },
  {
   "cell_type": "code",
   "execution_count": 24,
   "metadata": {},
   "outputs": [
    {
     "data": {
      "text/plain": [
       "<Response [200]>"
      ]
     },
     "execution_count": 24,
     "metadata": {},
     "output_type": "execute_result"
    }
   ],
   "source": [
    "# site url\n",
    "url = 'https://www.boat-lifestyle.com/collections/true-wireless-earbuds'\n",
    "page = requests.get(url)\n",
    "page"
   ]
  },
  {
   "cell_type": "code",
   "execution_count": 25,
   "metadata": {},
   "outputs": [],
   "source": [
    "# html parsing\n",
    "soup = BeautifulSoup(page.text,'html.parser')"
   ]
  },
  {
   "cell_type": "code",
   "execution_count": 64,
   "metadata": {},
   "outputs": [],
   "source": [
    "# create csv file in write mode and write data\n",
    "f = open('ecommerce.csv','w+')\n",
    "f.write(\"Product,Reviews,\\n\")\n",
    "f.close()"
   ]
  },
  {
   "cell_type": "code",
   "execution_count": 65,
   "metadata": {},
   "outputs": [
    {
     "name": "stdout",
     "output_type": "stream",
     "text": [
      "BOAT Airdopes 381 - In Ear Wireless Earbuds 4.57 stars\n",
      "BOAT Airdopes 402 - Wireless Earbuds 4.72 stars\n",
      "BOAT Airdopes 431 - Truly Wireless Earbuds 4.74 stars\n",
      "BOAT Airdopes 121 v2 - Wireless Earbuds 4.68 stars\n",
      "BOAT Airdopes 441 - Wireless Earbuds 4.80 stars\n",
      "BOAT Airdopes 311 V2 - Bluetooth Earbuds 4.50 stars\n",
      "BOAT Airdopes 441 Pro - Bluetooth Wireless Earbuds 4.76 stars\n",
      "BOAT Airdopes 201 - True Wireless Earbuds 4.57 stars\n",
      "BOAT Airdopes 131 - Wireless Earbuds 4.61 stars\n",
      "BOAT Airdopes 171 - Earbuds 4.74 stars\n",
      "BOAT Airdopes 281 - True Wireless Earbuds 4.76 stars\n",
      "TRebel Airdopes 402 0.00 stars\n",
      "TRebel Airdopes 131 0.00 stars\n",
      "TRebel Airdopes 431 0.00 stars\n",
      "TRebel Airdopes 171 0.00 stars\n",
      "BOAT Airdopes 412 - Bluetooth Earbuds 5.00 stars\n",
      "BOAT Airdopes 631 - TWS Earbuds 4.57 stars\n",
      "BOAT Airdopes 481 - Bluetooth Earbuds 0.00 stars\n",
      "BOAT Airdopes 382 - Bluetooth Earbuds 5.00 stars\n",
      "BOAT Airdopes 491 - Wireless Earbuds 4.33 stars\n",
      "BOAT Airdopes 291 - Wireless Earbuds 5.00 stars\n",
      "BOAT Airdopes 501 - Earbuds 5.00 stars\n",
      "Airdopes 443 4.64 stars\n",
      "BOAT Airdopes 283 - In Ear Wireless Earbuds 5.00 stars\n",
      "BOAT Airdopes 461 - Bluetooth Earbuds 5.00 stars\n",
      "BOAT Airdopes 711 - Best Bluetooth Earbuds with Mic 0.00 stars\n",
      "BOAT Airdopes 203 - Noise Cancelling Earbuds 5.00 stars\n",
      "BOAT Airdopes 383 - Wireless Earbuds 0.00 stars\n",
      "BOAT Airdopes 421 - TWS Earbuds 5.00 stars\n",
      "BOAT Airdopes 101 0.00 stars\n"
     ]
    }
   ],
   "source": [
    "# product title\n",
    "p = iter(soup.select('.title'))\n",
    "\n",
    "# reviews\n",
    "s = iter(soup.select('.jdgm-prev-badge__stars'))\n",
    "\n",
    "try:\n",
    "    # open file in append mode\n",
    "    f = open('ecommerce.csv','a')\n",
    "    while True:\n",
    "        try:\n",
    "            product = (next(p).text)\n",
    "            # star rating is in this attribute\n",
    "            star = (next(s).get('aria-label'))\n",
    "            print(product,star)\n",
    "            # append to csv file\n",
    "            f.write(product+','+star+'\\n')\n",
    "        except StopIteration:\n",
    "            break\n",
    "        except Exception as e:\n",
    "            print(e)\n",
    "            \n",
    "# exception handling         \n",
    "except FileNotFoundError as f:\n",
    "    print(f)\n",
    "except Exception as e:\n",
    "    print(e)\n",
    "finally:\n",
    "    f.close()"
   ]
  },
  {
   "cell_type": "code",
   "execution_count": null,
   "metadata": {},
   "outputs": [],
   "source": []
  },
  {
   "cell_type": "code",
   "execution_count": null,
   "metadata": {},
   "outputs": [],
   "source": []
  },
  {
   "cell_type": "code",
   "execution_count": null,
   "metadata": {},
   "outputs": [],
   "source": []
  }
 ],
 "metadata": {
  "kernelspec": {
   "display_name": "Python 3",
   "language": "python",
   "name": "python3"
  },
  "language_info": {
   "codemirror_mode": {
    "name": "ipython",
    "version": 3
   },
   "file_extension": ".py",
   "mimetype": "text/x-python",
   "name": "python",
   "nbconvert_exporter": "python",
   "pygments_lexer": "ipython3",
   "version": "3.8.5"
  }
 },
 "nbformat": 4,
 "nbformat_minor": 4
}
